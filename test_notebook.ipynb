{
 "cells": [
  {
   "cell_type": "code",
   "execution_count": 1,
   "metadata": {},
   "outputs": [],
   "source": [
    "import pyodbc\n",
    "import pandas as pd\n",
    "import decimal"
   ]
  },
  {
   "cell_type": "code",
   "execution_count": 2,
   "metadata": {},
   "outputs": [
    {
     "name": "stdout",
     "output_type": "stream",
     "text": [
      "['_NS_LOCALE_STAMPA', '_NS_LOCALE_STAMPA1', 'MSysAccessStorage', 'MSysAccessXML', 'MSysACEs', 'MSysComplexColumns', 'MSysIMEXColumns', 'MSysIMEXSpecs', 'MSysNameMap', 'MSysNavPaneGroupCategories', 'MSysNavPaneGroups', 'MSysNavPaneGroupToObjects', 'MSysNavPaneObjectIDs', 'MSysObjects', 'MSysQueries', 'MSysRelationships', 'MSysResources', '_NS_LOCALE_STAMPA2', 'Copia di VariabiliMacchina', 'Errori di incollamento', 'Variabili', 'VariabiliMacchina', 'Q_ControllaOrdinato', 'Q_EstraiPerOrdinamento']\n"
     ]
    }
   ],
   "source": [
    "string = (r'Driver={Microsoft Access Driver (*.mdb, *.accdb)};'+\n",
    "          r'DBQ=C:\\Users\\Edoardo\\Documents\\repositories\\sorting-problem\\DbOrdinamento.accdb')\n",
    "conn = pyodbc.connect(string)\n",
    "cursor = conn.cursor()\n",
    "print([t[2] for t in cursor.tables()])\n",
    "conn.close()"
   ]
  },
  {
   "cell_type": "code",
   "execution_count": 3,
   "metadata": {},
   "outputs": [],
   "source": [
    "def read_data_from_access(path, table):\n",
    "    string = (r'Driver={Microsoft Access Driver (*.mdb, *.accdb)};'+\n",
    "              'DBQ=' + path)\n",
    "    conn = pyodbc.connect(string)\n",
    "    cursor = conn.cursor()\n",
    "\n",
    "    query = f'select * from {table}'  # Q_EstraiPerOrdinamento, Variabili\n",
    "    cursor.execute(query)\n",
    "\n",
    "    data = cursor.fetchall()\n",
    "    conn.close()\n",
    "\n",
    "    columns = [c[0] for c in cursor.description]\n",
    "    types = [c[1] for c in cursor.description]\n",
    "\n",
    "    df = pd.DataFrame([list(row) for row in data], columns=columns)\n",
    "    for i in range(len(columns)):\n",
    "        if types[i] in [decimal.Decimal, int]:\n",
    "            df[columns[i]] = df[columns[i]].astype(float)\n",
    "    return df"
   ]
  },
  {
   "cell_type": "code",
   "execution_count": 5,
   "metadata": {},
   "outputs": [
    {
     "data": {
      "text/plain": [
       "array(['Onix108', 'OnixK0', 'Diamond'], dtype=object)"
      ]
     },
     "execution_count": 5,
     "metadata": {},
     "output_type": "execute_result"
    }
   ],
   "source": [
    "path = r'C:\\Users\\Edoardo\\Documents\\repositories\\sorting-problem\\DbOrdinamento.accdb'\n",
    "table = 'Q_EstraiPerOrdinamento'\n",
    "df = read_data_from_access(path, table)\n",
    "df.Macchina.unique()"
   ]
  },
  {
   "cell_type": "code",
   "execution_count": 79,
   "metadata": {
    "scrolled": true
   },
   "outputs": [
    {
     "data": {
      "text/html": [
       "<div>\n",
       "<style scoped>\n",
       "    .dataframe tbody tr th:only-of-type {\n",
       "        vertical-align: middle;\n",
       "    }\n",
       "\n",
       "    .dataframe tbody tr th {\n",
       "        vertical-align: top;\n",
       "    }\n",
       "\n",
       "    .dataframe thead th {\n",
       "        text-align: right;\n",
       "    }\n",
       "</style>\n",
       "<table border=\"1\" class=\"dataframe\">\n",
       "  <thead>\n",
       "    <tr style=\"text-align: right;\">\n",
       "      <th></th>\n",
       "      <th>Macchina</th>\n",
       "      <th>Prog</th>\n",
       "      <th>_C_for</th>\n",
       "      <th>Var_K</th>\n",
       "      <th>NumeroCom</th>\n",
       "      <th>IDRIGA</th>\n",
       "      <th>Fascia</th>\n",
       "      <th>NrCol</th>\n",
       "      <th>QTS</th>\n",
       "      <th>S</th>\n",
       "      <th>T</th>\n",
       "      <th>DescCol01</th>\n",
       "      <th>DescCol02</th>\n",
       "      <th>DescCol03</th>\n",
       "      <th>DescCol04</th>\n",
       "      <th>DescCol05</th>\n",
       "      <th>DescCol06</th>\n",
       "      <th>DescCol07</th>\n",
       "      <th>DescCol08</th>\n",
       "    </tr>\n",
       "  </thead>\n",
       "  <tbody>\n",
       "    <tr>\n",
       "      <th>0</th>\n",
       "      <td>Onix108</td>\n",
       "      <td>10.0</td>\n",
       "      <td>20.0</td>\n",
       "      <td>AB90</td>\n",
       "      <td>104967.0</td>\n",
       "      <td>1.0</td>\n",
       "      <td>0910</td>\n",
       "      <td>1</td>\n",
       "      <td>S</td>\n",
       "      <td>EC1245</td>\n",
       "      <td>EE1817</td>\n",
       "      <td>##Nero</td>\n",
       "      <td>None</td>\n",
       "      <td>None</td>\n",
       "      <td>None</td>\n",
       "      <td>None</td>\n",
       "      <td>None</td>\n",
       "      <td>None</td>\n",
       "      <td>None</td>\n",
       "    </tr>\n",
       "    <tr>\n",
       "      <th>1</th>\n",
       "      <td>OnixK0</td>\n",
       "      <td>10.0</td>\n",
       "      <td>180.0</td>\n",
       "      <td>KB90</td>\n",
       "      <td>104750.0</td>\n",
       "      <td>1.0</td>\n",
       "      <td>0347</td>\n",
       "      <td>8</td>\n",
       "      <td>Q</td>\n",
       "      <td>IB5256</td>\n",
       "      <td>IB6406</td>\n",
       "      <td>process black U</td>\n",
       "      <td>##Nero</td>\n",
       "      <td>process magenta   U</td>\n",
       "      <td>process yellows   U</td>\n",
       "      <td>412   U  (Grigio)</td>\n",
       "      <td>7531  U  (Grigio)</td>\n",
       "      <td>180   U  (Bordeaux)</td>\n",
       "      <td>process cyan   U</td>\n",
       "    </tr>\n",
       "    <tr>\n",
       "      <th>2</th>\n",
       "      <td>Diamond</td>\n",
       "      <td>11.0</td>\n",
       "      <td>0.0</td>\n",
       "      <td>DXD5</td>\n",
       "      <td>104885.0</td>\n",
       "      <td>2.0</td>\n",
       "      <td>1000</td>\n",
       "      <td>4</td>\n",
       "      <td>S</td>\n",
       "      <td>BC0089</td>\n",
       "      <td>BC0089</td>\n",
       "      <td>485   C  (Rosso)</td>\n",
       "      <td>348   C  (Verde)</td>\n",
       "      <td>cool gray 6   C  (Grigio)</td>\n",
       "      <td>##Nero</td>\n",
       "      <td>None</td>\n",
       "      <td>None</td>\n",
       "      <td>None</td>\n",
       "      <td>None</td>\n",
       "    </tr>\n",
       "    <tr>\n",
       "      <th>3</th>\n",
       "      <td>Diamond</td>\n",
       "      <td>12.0</td>\n",
       "      <td>40.0</td>\n",
       "      <td>KB75</td>\n",
       "      <td>104942.0</td>\n",
       "      <td>1.0</td>\n",
       "      <td>0330</td>\n",
       "      <td>2</td>\n",
       "      <td>S</td>\n",
       "      <td>8N036</td>\n",
       "      <td>BI2633</td>\n",
       "      <td>##Blu</td>\n",
       "      <td>##Azzurro</td>\n",
       "      <td>None</td>\n",
       "      <td>None</td>\n",
       "      <td>None</td>\n",
       "      <td>None</td>\n",
       "      <td>None</td>\n",
       "      <td>None</td>\n",
       "    </tr>\n",
       "    <tr>\n",
       "      <th>4</th>\n",
       "      <td>Diamond</td>\n",
       "      <td>13.0</td>\n",
       "      <td>80.0</td>\n",
       "      <td>KB75</td>\n",
       "      <td>104979.0</td>\n",
       "      <td>1.0</td>\n",
       "      <td>0327</td>\n",
       "      <td>4</td>\n",
       "      <td>S</td>\n",
       "      <td>IA1921</td>\n",
       "      <td>IA2330</td>\n",
       "      <td>@@Campione Blu</td>\n",
       "      <td>@@Campione Blu</td>\n",
       "      <td>@@Campione Azzurro</td>\n",
       "      <td>@@Campione Arancione</td>\n",
       "      <td>None</td>\n",
       "      <td>None</td>\n",
       "      <td>None</td>\n",
       "      <td>None</td>\n",
       "    </tr>\n",
       "  </tbody>\n",
       "</table>\n",
       "</div>"
      ],
      "text/plain": [
       "  Macchina  Prog  _C_for Var_K  NumeroCom  IDRIGA Fascia NrCol QTS       S  \\\n",
       "0  Onix108  10.0    20.0  AB90   104967.0     1.0   0910     1   S  EC1245   \n",
       "1   OnixK0  10.0   180.0  KB90   104750.0     1.0   0347     8   Q  IB5256   \n",
       "2  Diamond  11.0     0.0  DXD5   104885.0     2.0   1000     4   S  BC0089   \n",
       "3  Diamond  12.0    40.0  KB75   104942.0     1.0   0330     2   S   8N036   \n",
       "4  Diamond  13.0    80.0  KB75   104979.0     1.0   0327     4   S  IA1921   \n",
       "\n",
       "        T         DescCol01         DescCol02                  DescCol03  \\\n",
       "0  EE1817            ##Nero              None                       None   \n",
       "1  IB6406   process black U            ##Nero        process magenta   U   \n",
       "2  BC0089  485   C  (Rosso)  348   C  (Verde)  cool gray 6   C  (Grigio)   \n",
       "3  BI2633             ##Blu         ##Azzurro                       None   \n",
       "4  IA2330    @@Campione Blu    @@Campione Blu         @@Campione Azzurro   \n",
       "\n",
       "              DescCol04          DescCol05          DescCol06  \\\n",
       "0                  None               None               None   \n",
       "1   process yellows   U  412   U  (Grigio)  7531  U  (Grigio)   \n",
       "2                ##Nero               None               None   \n",
       "3                  None               None               None   \n",
       "4  @@Campione Arancione               None               None   \n",
       "\n",
       "             DescCol07         DescCol08  \n",
       "0                 None              None  \n",
       "1  180   U  (Bordeaux)  process cyan   U  \n",
       "2                 None              None  \n",
       "3                 None              None  \n",
       "4                 None              None  "
      ]
     },
     "execution_count": 79,
     "metadata": {},
     "output_type": "execute_result"
    }
   ],
   "source": [
    "df.head()"
   ]
  },
  {
   "cell_type": "code",
   "execution_count": 74,
   "metadata": {},
   "outputs": [
    {
     "data": {
      "text/plain": [
       "array(['Diamond', 'OnixK0', 'Onix108'], dtype=object)"
      ]
     },
     "execution_count": 74,
     "metadata": {},
     "output_type": "execute_result"
    }
   ],
   "source": [
    "df.Macchina.unique()"
   ]
  },
  {
   "cell_type": "code",
   "execution_count": 58,
   "metadata": {},
   "outputs": [],
   "source": [
    "string = (r'Driver={Microsoft Access Driver (*.mdb, *.accdb)};'+\n",
    "          r'DBQ=C:\\Users\\Edoardo\\Documents\\repositories\\sorting-problem\\DbOrdinamento.accdb')\n",
    "conn = pyodbc.connect(string)\n",
    "cursor = conn.cursor()\n",
    "cursor.execute('Select * from Q_EstraiPerOrdinamento')\n",
    "\n",
    "new_cols = []\n",
    "for col in cursor.description:\n",
    "    column_name = col[0]\n",
    "    column_type = col[1]\n",
    "    if column_type == str:\n",
    "        column_type = 'varchar'\n",
    "    elif column_type == int:\n",
    "        column_type = 'integer'\n",
    "    elif column_type == decimal.Decimal:\n",
    "        column_type = 'double'\n",
    "    new_cols.append(column_name + ' ' + column_type)\n"
   ]
  },
  {
   "cell_type": "code",
   "execution_count": 61,
   "metadata": {},
   "outputs": [],
   "source": [
    "query = f\"CREATE TABLE Test_table({', '.join(new_cols)})\"\n",
    "cursor.execute(query)\n",
    "conn.commit()\n",
    "conn.close()"
   ]
  },
  {
   "cell_type": "code",
   "execution_count": 77,
   "metadata": {},
   "outputs": [],
   "source": [
    "string = (r'Driver={Microsoft Access Driver (*.mdb, *.accdb)};'+\n",
    "          r'DBQ=C:\\Users\\Edoardo\\Documents\\repositories\\sorting-problem\\DbOrdinamento.accdb')\n",
    "conn = pyodbc.connect(string)\n",
    "cursor = conn.cursor() \n",
    "query1 = \"update Q_EstraiPerOrdinamento set prog=10 where macchina='Diamond' and prog=10.0\"\n",
    "cursor.execute(query1)\n",
    "conn.commit()\n",
    "conn.close()"
   ]
  },
  {
   "cell_type": "code",
   "execution_count": null,
   "metadata": {},
   "outputs": [],
   "source": []
  },
  {
   "cell_type": "code",
   "execution_count": null,
   "metadata": {},
   "outputs": [],
   "source": []
  }
 ],
 "metadata": {
  "kernelspec": {
   "display_name": "Python 3",
   "language": "python",
   "name": "python3"
  },
  "language_info": {
   "codemirror_mode": {
    "name": "ipython",
    "version": 3
   },
   "file_extension": ".py",
   "mimetype": "text/x-python",
   "name": "python",
   "nbconvert_exporter": "python",
   "pygments_lexer": "ipython3",
   "version": "3.7.0"
  }
 },
 "nbformat": 4,
 "nbformat_minor": 2
}
